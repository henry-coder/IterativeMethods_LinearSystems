{
 "cells": [
  {
   "cell_type": "markdown",
   "metadata": {},
   "source": [
    "# Iterative Methods"
   ]
  },
  {
   "cell_type": "markdown",
   "metadata": {},
   "source": [
    "In this ***jupyter notebook*** there is the implementation in *Python* of the **Gauss-Jacobi** and **Gauss-Seidel** iterative methods as recursive functions for solving linear systems."
   ]
  },
  {
   "cell_type": "markdown",
   "metadata": {},
   "source": [
    "## Code of the Methods"
   ]
  },
  {
   "cell_type": "markdown",
   "metadata": {},
   "source": [
    "#### Methods formulations:"
   ]
  },
  {
   "cell_type": "markdown",
   "metadata": {},
   "source": [
    "* ${x^{(k+1)}=Mx^{(k)}+c}$\n",
    "\n",
    "* $\\frac{1}{Ann}{[b_n - A_{n1}x_1 - A_{n2}x_2 -\\:...\\:- A_{nn-1}x_{n-1}]}$\n",
    "\n",
    "The difference between the methods is due to the fact that the Gauss-Seidel method uses updated values of $x$, that is $^{k+1}$ when already calculated."
   ]
  },
  {
   "cell_type": "markdown",
   "metadata": {},
   "source": [
    "##### Stop Criteria:"
   ]
  },
  {
   "cell_type": "markdown",
   "metadata": {},
   "source": [
    "* Based on the precision ($\\epsilon$) of the norm-$\\infty$:\n",
    "$\\frac{\\max(\\:|\\:x^{(k)}\\:|\\:-\\:|\\:x^{(k-1)}\\:|\\:)}{\\max(\\:|\\:x^{(k)}\\:|\\:)} < \\epsilon$\n",
    "* Based on a maximum number of iterations"
   ]
  },
  {
   "cell_type": "markdown",
   "metadata": {},
   "source": [
    "#### Import Required"
   ]
  },
  {
   "cell_type": "code",
   "execution_count": 8,
   "metadata": {},
   "outputs": [],
   "source": [
    "import numpy as np"
   ]
  },
  {
   "cell_type": "markdown",
   "metadata": {},
   "source": [
    "### Wrapper *iterative_method*"
   ]
  },
  {
   "cell_type": "markdown",
   "metadata": {},
   "source": [
    "Initially, the iterative_method wrapper was implemented with the following responsibilities:\n",
    "* Treat the coefficient matrix and the solution vector to start the iterations\n",
    "* Carry out the initial approximation in $x^{(0)} = 0$\n",
    "* Call the method specified by parameter to perform the iterations"
   ]
  },
  {
   "cell_type": "markdown",
   "metadata": {},
   "source": [
    "#### Parameters"
   ]
  },
  {
   "cell_type": "markdown",
   "metadata": {},
   "source": [
    "* ***matrix:*** Matrix of coefficients\n",
    "* ***vector:*** Vector of unknowns\n",
    "* ***method:*** Iterative method that should be used (*Gauss-Jacobi* or *Gauss-Sidel*), by default the *Gauss-Sidel* method is used\n",
    "* ***precision:*** Precision ($\\epsilon$), by default it's assumed $5 * 10^{-3}$\n",
    "* ***iterations:*** Maximum number of iterations that must be done, by default it is set to 100"
   ]
  },
  {
   "cell_type": "markdown",
   "metadata": {},
   "source": [
    "#### Return:"
   ]
  },
  {
   "cell_type": "markdown",
   "metadata": {},
   "source": [
    "* Tuple containing respectively:\n",
    "  * The vector of the approximation obtained by the method used\n",
    "  * A status *string* with information about the approximation obtained"
   ]
  },
  {
   "cell_type": "markdown",
   "metadata": {},
   "source": [
    "#### Code:"
   ]
  },
  {
   "cell_type": "code",
   "execution_count": 9,
   "metadata": {},
   "outputs": [],
   "source": [
    "def iterative_method(matrix, vector, method='sidel', precision=5 * 10e-3, iterations=100):\n",
    "    matrix, vector = matrix.astype(float), vector.astype(float)\n",
    "    initial_approx = np.zeros(vector.size, float)\n",
    "    old_approx = np.zeros(vector.size, float)\n",
    "    if method == 'jacobi' or method == 'gauss jacobi' or method == 'gauss-jacobi':\n",
    "        return gauss_jacobi(matrix, vector, precision, initial_approx, old_approx, iterations)\n",
    "    return gauss_seidel(matrix, vector, precision, initial_approx, old_approx, iterations)"
   ]
  },
  {
   "cell_type": "markdown",
   "metadata": {},
   "source": [
    "### ***Gauss-Jacobi*** Method"
   ]
  },
  {
   "cell_type": "markdown",
   "metadata": {},
   "source": [
    "Implementation of the recursive function that performs the iterations of the **Gauss-Jacobi** method."
   ]
  },
  {
   "cell_type": "markdown",
   "metadata": {},
   "source": [
    "#### Parameters"
   ]
  },
  {
   "cell_type": "markdown",
   "metadata": {},
   "source": [
    "* ***matrix:*** Matrix of coefficients\n",
    "* ***vector:*** Vector of unknowns\n",
    "* ***precision:*** Precision ($\\epsilon$)\n",
    "* ***current_approx:*** Current approximation vector - $x^{(k+1)}$\n",
    "* ***old_approx:*** Previous approximation vector - $x^{(k)}$\n",
    "* ***iterations:*** Maximum number of iterations that must be done\n",
    "* ***iteration:*** Number of iterations already done"
   ]
  },
  {
   "cell_type": "markdown",
   "metadata": {},
   "source": [
    "#### Return:"
   ]
  },
  {
   "cell_type": "markdown",
   "metadata": {},
   "source": [
    "* Tuple containing respectively:\n",
    "  * The approach vector\n",
    "  * A status *string* with information about approaching status"
   ]
  },
  {
   "cell_type": "markdown",
   "metadata": {},
   "source": [
    "#### Code:"
   ]
  },
  {
   "cell_type": "code",
   "execution_count": 10,
   "metadata": {},
   "outputs": [],
   "source": [
    "def gauss_jacobi(matrix, vector, precision, current_approx, old_approx, iterations, iteration=1):\n",
    "    for i in range(vector.size):\n",
    "        summation = 0\n",
    "        for j in range(vector.size):\n",
    "            if i != j:\n",
    "                summation += matrix[i][j] * old_approx[j]\n",
    "        current_approx[i] = 1/matrix[i][i] * (vector[i] - summation)\n",
    "    infinity_norm = np.max(abs(current_approx) - abs(old_approx)) / np.max(abs(current_approx))\n",
    "    if infinity_norm <= precision:\n",
    "        status = f'Achieved precision: {precision}\\nIterations performed: {iteration}'\n",
    "        return current_approx, status\n",
    "    if iteration == iterations:\n",
    "        status = f'Iteration limit reached ({iterations})!'\n",
    "        return current_approx, status\n",
    "    iteration += 1\n",
    "    old_approx = current_approx.copy()\n",
    "    return gauss_jacobi(matrix, vector, precision, current_approx, old_approx, iterations, iteration=iteration)"
   ]
  },
  {
   "cell_type": "markdown",
   "metadata": {},
   "source": [
    "### ***Gauss-Seidel*** Method"
   ]
  },
  {
   "cell_type": "markdown",
   "metadata": {},
   "source": [
    "Implementation of the recursive function that performs the iterations of the **Gauss-Seidel** method."
   ]
  },
  {
   "cell_type": "markdown",
   "metadata": {},
   "source": [
    "#### Parameters"
   ]
  },
  {
   "cell_type": "markdown",
   "metadata": {},
   "source": [
    "* ***matrix:*** Matrix of coefficients\n",
    "* ***vector:*** Vector of unknowns\n",
    "* ***precision:*** Precision ($\\epsilon$)\n",
    "* ***current_approx:*** Current approximation vector - $x^{(k+1)}$\n",
    "* ***old_approx:*** Previous approximation vector - $x^{(k)}$\n",
    "* ***iterations:*** Maximum number of iterations that must be done\n",
    "* ***iteration:*** Number of iterations already done"
   ]
  },
  {
   "cell_type": "markdown",
   "metadata": {},
   "source": [
    "#### Return:"
   ]
  },
  {
   "cell_type": "markdown",
   "metadata": {},
   "source": [
    "* Tuple containing respectively:\n",
    "  * The approach vector\n",
    "  * A status *string* with information about approaching status"
   ]
  },
  {
   "cell_type": "markdown",
   "metadata": {},
   "source": [
    "#### Code:"
   ]
  },
  {
   "cell_type": "code",
   "execution_count": 11,
   "metadata": {},
   "outputs": [],
   "source": [
    "def gauss_seidel(matrix, vector, precision, current_approx, old_approx, iterations, iteration=1):\n",
    "    for i in range(vector.size):\n",
    "        summation = 0\n",
    "        for j in range(vector.size):\n",
    "            if i != j:\n",
    "                summation += matrix[i][j] * current_approx[j]\n",
    "        current_approx[i] = 1/matrix[i][i] * (vector[i] - summation)\n",
    "    infinity_norm = np.max(abs(current_approx) - abs(old_approx)) / np.max(abs(current_approx))\n",
    "    if infinity_norm <= precision:\n",
    "        status = f'Achieved precision: {precision}\\nIterations performed: {iteration}'\n",
    "        return current_approx, status\n",
    "    if iteration == iterations:\n",
    "        status = f'Iteration limit reached ({iterations})!'\n",
    "        return current_approx, status\n",
    "    iteration += 1\n",
    "    old_approx = current_approx.copy()\n",
    "    return gauss_seidel(matrix, vector, precision, current_approx, old_approx, iterations, iteration=iteration)"
   ]
  },
  {
   "cell_type": "markdown",
   "metadata": {},
   "source": [
    "## Application of Methods"
   ]
  },
  {
   "cell_type": "markdown",
   "metadata": {},
   "source": [
    "### Exemple 1"
   ]
  },
  {
   "cell_type": "code",
   "execution_count": 12,
   "metadata": {},
   "outputs": [
    {
     "name": "stdout",
     "output_type": "stream",
     "text": [
      "Resolution using the Gauss-Jacobi method:\n",
      "Approximation found: [ 0.0625 -1.75   -0.0625]\n",
      "Achieved precision: 0.05\n",
      "Iterations performed: 4\n",
      "\n",
      "Resolution using the Gauss-Sidel method:\n",
      "Approximation found: [ 0.99994659  2.00006104 -0.99999619]\n",
      "Achieved precision: 0.0001\n",
      "Iterations performed: 18\n"
     ]
    }
   ],
   "source": [
    "A = np.array([[2, -1, 1],\n",
    "              [2, 2, 2],\n",
    "              [-1, -1, 2]])\n",
    "b = np.array([-1, 4, -5])\n",
    "print('Resolution using the Gauss-Jacobi method:')\n",
    "approx, status = iterative_method(A, b, method='jacobi', iterations=25)\n",
    "print(f'Approximation found: {approx}\\n{status}\\n')\n",
    "print('Resolution using the Gauss-Sidel method:')\n",
    "approx, status = iterative_method(A, b, method='seidel', precision=10e-5)\n",
    "print(f'Approximation found: {approx}\\n{status}')"
   ]
  },
  {
   "cell_type": "markdown",
   "metadata": {},
   "source": [
    "### Exemple 2"
   ]
  },
  {
   "cell_type": "code",
   "execution_count": 13,
   "metadata": {},
   "outputs": [
    {
     "name": "stdout",
     "output_type": "stream",
     "text": [
      "Resolution using the Gauss-Jacobi method:\n",
      "Approximation found: [ 0.03516089 -0.23570619  0.65922185]\n",
      "Achieved precision: 0.01\n",
      "Iterations performed: 7\n",
      "\n",
      "Resolution using the Gauss-Sidel method:\n",
      "Approximation found: [ 0.0361492  -0.23660752  0.65733928]\n",
      "Achieved precision: 0.01\n",
      "Iterations performed: 5\n"
     ]
    }
   ],
   "source": [
    "A = np.array([[3, -1, 1],\n",
    "              [3, 6, 2],\n",
    "              [3, 3, 7]])\n",
    "b = np.array([1, 0, 4])\n",
    "print('Resolution using the Gauss-Jacobi method:')\n",
    "approx, status = iterative_method(A, b, method='jacobi', precision=10e-3)\n",
    "print(f'Approximation found: {approx}\\n{status}\\n')\n",
    "print('Resolution using the Gauss-Sidel method:')\n",
    "approx, status = iterative_method(A, b, method='seidel', precision=10e-3)\n",
    "print(f'Approximation found: {approx}\\n{status}')"
   ]
  },
  {
   "cell_type": "markdown",
   "metadata": {},
   "source": [
    "### Exemple 3"
   ]
  },
  {
   "cell_type": "code",
   "execution_count": 14,
   "metadata": {},
   "outputs": [
    {
     "name": "stdout",
     "output_type": "stream",
     "text": [
      "Resolution using the Gauss-Jacobi method:\n",
      "Approximation found: [-1.45003891  1.45003891 -0.73057175]\n",
      "Achieved precision: 0.01\n",
      "Iterations performed: 14\n",
      "\n",
      "Resolution using the Gauss-Sidel method:\n",
      "Approximation found: [-1.45974731  1.45021057 -0.72510529]\n",
      "Achieved precision: 0.01\n",
      "Iterations performed: 5\n"
     ]
    }
   ],
   "source": [
    "A = np.array([[-2, 1, 1/2],\n",
    "              [1, -2, -1/2],\n",
    "              [0, 1, 2]])\n",
    "b = np.array([4, -4, 0])\n",
    "print('Resolution using the Gauss-Jacobi method:')\n",
    "approx, status = iterative_method(A, b, method='jacobi', precision=10e-3)\n",
    "print(f'Approximation found: {approx}\\n{status}\\n')\n",
    "print('Resolution using the Gauss-Sidel method:')\n",
    "approx, status = iterative_method(A, b, method='seidel', precision=10e-3)\n",
    "print(f'Approximation found: {approx}\\n{status}')"
   ]
  }
 ],
 "metadata": {
  "interpreter": {
   "hash": "4041f09c62f7b08b2b3297c49622d39d36bb2d49d6f254336d7894202318738d"
  },
  "kernelspec": {
   "display_name": "Python 3.10.0 64-bit",
   "language": "python",
   "name": "python3"
  },
  "language_info": {
   "codemirror_mode": {
    "name": "ipython",
    "version": 3
   },
   "file_extension": ".py",
   "mimetype": "text/x-python",
   "name": "python",
   "nbconvert_exporter": "python",
   "pygments_lexer": "ipython3",
   "version": "3.10.0"
  },
  "orig_nbformat": 4
 },
 "nbformat": 4,
 "nbformat_minor": 2
}
